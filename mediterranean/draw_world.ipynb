{
 "cells": [
  {
   "cell_type": "code",
   "execution_count": 1,
   "metadata": {},
   "outputs": [],
   "source": [
    "using Luxor"
   ]
  },
  {
   "cell_type": "code",
   "execution_count": 2,
   "metadata": {},
   "outputs": [],
   "source": [
    "using JSON"
   ]
  },
  {
   "cell_type": "code",
   "execution_count": 3,
   "metadata": {},
   "outputs": [],
   "source": [
    "using DataFrames\n",
    "using DataFramesMeta\n",
    "using CSV"
   ]
  },
  {
   "cell_type": "code",
   "execution_count": 4,
   "metadata": {},
   "outputs": [
    {
     "data": {
      "text/plain": [
       "\"/home/martin/Science/southampton/runs/mediterranean\""
      ]
     },
     "execution_count": 4,
     "metadata": {},
     "output_type": "execute_result"
    }
   ],
   "source": [
    "pwd()"
   ]
  },
  {
   "cell_type": "code",
   "execution_count": 5,
   "metadata": {},
   "outputs": [
    {
     "data": {
      "text/plain": [
       "scale (generic function with 1 method)"
      ]
     },
     "execution_count": 5,
     "metadata": {},
     "output_type": "execute_result"
    }
   ],
   "source": [
    "scale_x(x) = x * 500 + 10\n",
    "scale_y(y) = y * 500 + 10\n",
    "scale(x, y) = scale_x(x), scale_y(y)"
   ]
  },
  {
   "cell_type": "code",
   "execution_count": 62,
   "metadata": {},
   "outputs": [
    {
     "data": {
      "text/plain": [
       "draw_city (generic function with 2 methods)"
      ]
     },
     "execution_count": 62,
     "metadata": {},
     "output_type": "execute_result"
    }
   ],
   "source": [
    "function draw_link(l, cities, risk, count, draw_unused=false)\n",
    "#    if link_type(l) == \"fast\"\n",
    "#        sethue(\"green\")\n",
    "#        w = 10 * (1-width)\n",
    "#    else\n",
    "#        sethue(\"red\")\n",
    "#        w = (15 - width)/2\n",
    "#    end\n",
    "\n",
    "    if count == 0.05\n",
    "        w = 0.5\n",
    "        sethue(risk*20, 1-risk*20, 0)\n",
    "        setline(w)\n",
    "        setdash(\"dashed\")\n",
    "    else\n",
    "        w = count * 10\n",
    "        sethue(risk*20, 1-risk*20, 0)\n",
    "        setline(w)\n",
    "        setdash(\"solid\")\n",
    "    end\n",
    "    \n",
    "    p1, p2 = lcoords(l, cities)\n",
    "    if count > 0.05 || draw_unused\n",
    "        line(Point(scale(p1...)...), Point(scale(p2...)...), :stroke)\n",
    "    end\n",
    "end\n",
    "\n",
    "function draw_city(c, size, name)\n",
    "    setdash(\"solid\")\n",
    "    if city_type(c) == \"exit\"\n",
    "        sethue(\"blue\")\n",
    "    else\n",
    "        sethue(\"purple\")\n",
    "    end\n",
    "    x, y = scale(coords(c)...)\n",
    "    circle(Point(x, y), size * 5, :fill)\n",
    "    sethue(\"black\")\n",
    "    setline(1)\n",
    "    circle(Point(x, y), 5, :stroke)\n",
    "    text(name, Point(x+6, y+2))\n",
    "end"
   ]
  },
  {
   "cell_type": "code",
   "execution_count": 43,
   "metadata": {},
   "outputs": [
    {
     "data": {
      "text/plain": [
       "coords (generic function with 1 method)"
      ]
     },
     "execution_count": 43,
     "metadata": {},
     "output_type": "execute_result"
    }
   ],
   "source": [
    "coords(c :: DataFrameRow) = c[:y], 1.0-c[:x]"
   ]
  },
  {
   "cell_type": "code",
   "execution_count": 44,
   "metadata": {},
   "outputs": [
    {
     "data": {
      "text/plain": [
       "lcoords (generic function with 1 method)"
      ]
     },
     "execution_count": 44,
     "metadata": {},
     "output_type": "execute_result"
    }
   ],
   "source": [
    "function lcoords(link :: DataFrameRow, cities :: DataFrame)\n",
    "    c1 = cities[cities.id .== link[:l1], :][1, :]\n",
    "    c2 = cities[cities.id .== link[:l2], :][1, :]\n",
    "    \n",
    "    coords(c1), coords(c2)\n",
    "end\n",
    "    "
   ]
  },
  {
   "cell_type": "code",
   "execution_count": 45,
   "metadata": {},
   "outputs": [
    {
     "data": {
      "text/plain": [
       "city_type (generic function with 1 method)"
      ]
     },
     "execution_count": 45,
     "metadata": {},
     "output_type": "execute_result"
    }
   ],
   "source": [
    "link_type(l :: DataFrameRow) = lowercase(l[:type])\n",
    "city_type(c :: DataFrameRow) = lowercase(c[:type])"
   ]
  },
  {
   "cell_type": "code",
   "execution_count": 54,
   "metadata": {},
   "outputs": [
    {
     "data": {
      "text/plain": [
       "draw_landscape_j (generic function with 2 methods)"
      ]
     },
     "execution_count": 54,
     "metadata": {},
     "output_type": "execute_result"
    }
   ],
   "source": [
    "function draw_landscape_j(dir, name = \"output\"; risk=true, draw_unused=false, use_opt=false)\n",
    "    suffix = use_opt ? \"_opt\" : \"\"\n",
    "    cities = CSV.read(dir * \"/cities$suffix.txt\", delim=\"\\t\", ignorerepeated=true, header=1, copycols=true, DataFrame)\n",
    "    links = CSV.read(dir * \"/links$suffix.txt\", delim=\"\\t\", ignorerepeated=true, header=1, copycols=true, DataFrame)\n",
    "\n",
    "    map = JSON.parsefile(\"map_med1.json\")\n",
    "    \n",
    "    sort!(links, :count)\n",
    "    \n",
    "    desc_c = describe(cities)\n",
    "    max_cc = desc_c[(desc_c.variable .== :count), :max][1]\n",
    "    desc_l = describe(links)\n",
    "    max_cl = desc_l[(desc_l.variable .== :count), :max][1]\n",
    "    \n",
    "    @pdf begin\n",
    "\n",
    "        origin(0,0)\n",
    "        background(\"white\")\n",
    "\n",
    "        setline(1)\n",
    "        box(Point(scale(-0.01, -0.01)...), Point(scale(1.01, 1.01)...), :stroke)\n",
    "        \n",
    "#        line(Point())\n",
    "\n",
    "        \n",
    "        \n",
    "        for l in eachrow(links)\n",
    "            count_f = l[:count] / max_cl * 0.95 + 0.05\n",
    "            if risk\n",
    "                draw_link(l, cities, l[:risk], count_f, draw_unused) \n",
    "            else\n",
    "                draw_link(l, cities, l[:friction]/3, count_f, draw_unused) \n",
    "            end\n",
    "        end\n",
    "        \n",
    "        #q = \n",
    "        \n",
    "        fontsize(5)\n",
    "        \n",
    "        for c in eachrow(cities)\n",
    "            name = find_by_coord(c[:x], c[:y], map)\n",
    "            s = c[:count]\n",
    "            draw_city(c, s / max_cc, name)\n",
    "        end\n",
    "\n",
    "    end 520 520 name * \".pdf\"\n",
    "end"
   ]
  },
  {
   "cell_type": "code",
   "execution_count": 63,
   "metadata": {},
   "outputs": [
    {
     "data": {
      "text/plain": []
     },
     "execution_count": 63,
     "metadata": {},
     "output_type": "execute_result"
    }
   ],
   "source": [
    "draw_landscape_j(\"done/x9_99_1_6030321324244463672/\", \"map_med\", risk=true, draw_unused=true)\n"
   ]
  },
  {
   "cell_type": "code",
   "execution_count": 38,
   "metadata": {},
   "outputs": [
    {
     "data": {
      "text/plain": [
       "Dict{String, Any} with 3 entries:\n",
       "  \"links\"         => Any[Dict{String, Any}(\"distance\"=>0.0194039, \"j\"=>2, \"risk…\n",
       "  \"needs entries\" => true\n",
       "  \"cities\"        => Any[Dict{String, Any}(\"geotype\"=>\"C\", \"name\"=>\"Sabratah\", …"
      ]
     },
     "execution_count": 38,
     "metadata": {},
     "output_type": "execute_result"
    }
   ],
   "source": [
    "    map = JSON.parsefile(\"map_med1.json\")\n"
   ]
  },
  {
   "cell_type": "code",
   "execution_count": 40,
   "metadata": {},
   "outputs": [
    {
     "data": {
      "text/plain": [
       "Dict{String, Any} with 6 entries:\n",
       "  \"geotype\" => \"C\"\n",
       "  \"name\"    => \"Sabratah\"\n",
       "  \"typ\"     => 1\n",
       "  \"x\"       => 0.529087\n",
       "  \"country\" => \"Libya\"\n",
       "  \"y\"       => 0.0878283"
      ]
     },
     "execution_count": 40,
     "metadata": {},
     "output_type": "execute_result"
    }
   ],
   "source": [
    "map[\"cities\"][1]"
   ]
  },
  {
   "cell_type": "code",
   "execution_count": 41,
   "metadata": {},
   "outputs": [
    {
     "data": {
      "text/plain": [
       "find_by_coord (generic function with 1 method)"
      ]
     },
     "execution_count": 41,
     "metadata": {},
     "output_type": "execute_result"
    }
   ],
   "source": [
    "closeby(x1, y1, x2, y2, eps) = sqrt((x1-x2)^2 + (y1-y2)^2) < eps\n",
    "\n",
    "function find_by_coord(x, y, map)\n",
    "    cities = map[\"cities\"]\n",
    "    for c in cities\n",
    "        if closeby(x, y, c[\"x\"], c[\"y\"], 0.0001)\n",
    "            return c[\"name\"]\n",
    "        end\n",
    "    end\n",
    "    return \"\"\n",
    "end"
   ]
  },
  {
   "cell_type": "code",
   "execution_count": null,
   "metadata": {},
   "outputs": [],
   "source": []
  }
 ],
 "metadata": {
  "@webio": {
   "lastCommId": null,
   "lastKernelId": null
  },
  "kernelspec": {
   "display_name": "Julia 1.6.1",
   "language": "julia",
   "name": "julia-1.6"
  },
  "language_info": {
   "file_extension": ".jl",
   "mimetype": "application/julia",
   "name": "julia",
   "version": "1.6.1"
  }
 },
 "nbformat": 4,
 "nbformat_minor": 2
}
