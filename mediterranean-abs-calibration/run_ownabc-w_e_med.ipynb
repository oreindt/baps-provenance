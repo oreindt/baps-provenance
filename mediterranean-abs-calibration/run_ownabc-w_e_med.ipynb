{
 "cells": [
  {
   "cell_type": "code",
   "execution_count": null,
   "metadata": {},
   "outputs": [],
   "source": [
    "using Distributions"
   ]
  },
  {
   "cell_type": "code",
   "execution_count": null,
   "metadata": {},
   "outputs": [],
   "source": [
    "include(\"run_remotely.jl\")"
   ]
  },
  {
   "cell_type": "code",
   "execution_count": null,
   "metadata": {},
   "outputs": [],
   "source": [
    "function simulate(params)\n",
    "    pdict = Dict(\n",
    "        \"p-drop-contact\" => params[1], \n",
    "#        \"speed-expl-stay\" => params[2], \n",
    "#        \"speed-expl-move\" => params[3], \n",
    "        \"p-info-contacts\" => params[2], \n",
    "        \"p-transfer-info\" => params[3],\n",
    "#        \"error\" => params[6], \n",
    "#        \"error-risk\" => params[7], \n",
    "#        \"error-frict\" => params[8], \n",
    "        \"risk-scale\" => params[4], \n",
    "#        \"p-notice-death-c\" => params[10], \n",
    "#        \"p-notice-death-o\" => params[11], \n",
    "#        \"speed-risk-indir\" => params[12], \n",
    "#        \"speed-risk-obs\" => params[13], \n",
    "#        \"speed-expl-risk\" => params[14], \n",
    "        \"path-penalty-risk\" => params[5])\n",
    "\n",
    "    deps = join(params[6:8], \" \")\n",
    "    \n",
    "    med_args = \"'\" * \n",
    "        \"--wait 10 --warmup 100 \" * \n",
    "        \"--int-w 0.01 0.077 0.153 0.428 0.389 \" * \n",
    "        \"--int-e 0.01 0.1755 0.3719 0.4024 0.4626 \" * \n",
    "        \"--risks-w 0.01 0.023 0.020 0.029 0.048 \" *\n",
    "        \"--risks-e 0.01 0.0021 0.0012 0.0028 0.0005 \" * \n",
    "        \"'\"\n",
    "    \n",
    "    args = \" -m ../map_med1.json -s ../departures '--warmup 100 --dep $deps' -s ../mediterranean $med_args -t 500\"\n",
    "    for (k, v) in pdict\n",
    "        args *= \" --$k $v\" \n",
    "    end\n",
    "    \n",
    "    args *= \" --rand-seed-sim $(rand(1:100000)) --rand-seed-world $(rand(1:100000))\"\n",
    "    \n",
    "    xdirs = [readdir(\"incoming\"); readdir(\"running\"); readdir(\"done\")]\n",
    "    filter!(x -> startswith(x, \"x\"), xdirs)\n",
    "    mx = 1\n",
    "    for dir in xdirs\n",
    "        m = match(r\"x([0-9]+)_\", dir)\n",
    "        if m == nothing \n",
    "            continue\n",
    "        end\n",
    "        n = parse(Int, m.captures[1])\n",
    "        if mx <= n\n",
    "            mx = n+1\n",
    "        end\n",
    "    end\n",
    "    \n",
    "    prefix = \"x$(mx)_$(Threads.threadid())_\"\n",
    "    server = \"sotonhpc\"\n",
    "    dir = \"Science/southampon/runs/mediterranean\"\n",
    "    \n",
    "    results = run_batch(server, dir, prefix, [args])[1]\n",
    "\n",
    "    results\n",
    "end\n",
    "\n",
    "function costs(results)\n",
    "    arrivals_w = [0.657941144053786, 0.207848228494849, 0.599476123312513]\n",
    "    arrivals_e = [0.184888393242086, 1.1670864036315, 1.87191304579482]\n",
    "    mort_w = [0.022736973763885, 0.019768432868398, 0.028785488958991, 0.047819332348149]\n",
    "    mort_e = [0.002051786330565, 0.00120836500419, 0.002757134481611, 0.000542481662592]\n",
    "    interc_w = [1.43020016842651, 0.884092762025546, 0.525283057533685]\n",
    "    interc_e = [0.513977915432265, 1.33085307063509, 2.38377037562013]\n",
    "\n",
    "    d1 = sqrt(sum((arrivals_w .- results[1]) .^ 2))\n",
    "    d2 = sqrt(sum((arrivals_e .- results[2]) .^ 2))\n",
    "    d3 = sqrt(sum((mort_w .- results[3]) .^ 2))\n",
    "    d4 = sqrt(sum((mort_e .- results[4]) .^ 2))\n",
    "    d5 = sqrt(sum((interc_w .- results[5]) .^ 2))\n",
    "    d6 = sqrt(sum((interc_e .- results[6]) .^ 2))\n",
    "    \n",
    "    d1 + d2 + d3 * 10 + d4 * 10 + d5 + d6\n",
    "end\n",
    "\n",
    "dist(params) = costs(simulate(params))"
   ]
  },
  {
   "cell_type": "code",
   "execution_count": null,
   "metadata": {},
   "outputs": [],
   "source": [
    "using Distributions\n",
    "using Statistics\n",
    "\n",
    "mutable struct Particle\n",
    "    params :: Vector{Float64}\n",
    "    dist :: Float64\n",
    "end\n",
    "\n",
    "\n",
    "function limit(params, priors)\n",
    "    [max(minimum(d), min(maximum(d), p)) for (p, d) in zip(params, priors)]\n",
    "end\n",
    "        \n",
    "\n",
    "function abc(priors, dist_func, pop_size, p_rem, sigma, n_iters; verbose = false, parallel = false, scale_noise = false)\n",
    "    particles = Particle[]\n",
    "    new_particles = [Particle(map(rand, priors), Inf) for i in 1:pop_size]\n",
    "        \n",
    "    iter = 0\n",
    "    \n",
    "    while true\n",
    "        iter += 1\n",
    "        verbose && println(\"$iter: simulating $(length(new_particles)) new particles...\")\n",
    "        \n",
    "        if parallel\n",
    "            Threads.@threads for p in new_particles\n",
    "                p.dist = dist_func(p.params)\n",
    "            end        \n",
    "        else\n",
    "            for p in new_particles\n",
    "                p.dist = dist_func(p.params)\n",
    "            end        \n",
    "        end\n",
    "            \n",
    "        # add new particles to old ones\n",
    "        particles = [particles ; new_particles]\n",
    "        \n",
    "        if iter >= n_iters\n",
    "            return particles\n",
    "        end\n",
    "\n",
    "        rem = floor(Int, p_rem * length(particles))\n",
    "    \n",
    "        verbose && println(\"removing $rem of $(length(particles))\")\n",
    "        # remove worst particles\n",
    "        sort!(particles, by=p->p.dist)\n",
    "        particles = particles[1:(end-rem)]\n",
    "        \n",
    "        verbose && println(\"distance: \", particles[1].dist, \" \", particles[end].dist)\n",
    "        \n",
    "        \n",
    "        if scale_noise\n",
    "            std_dev = [std([p.params[i] for p in particles]) for i in eachindex(priors)]\n",
    "            verbose && println(\"stdd: \", join(std_dev, \", \"))\n",
    "            n_sigma = sigma .* std_dev\n",
    "        else\n",
    "            n_sigma = sigma\n",
    "        end\n",
    "        \n",
    "        noise = Normal.(0, n_sigma)\n",
    "        \n",
    "        s = particles[end].dist + particles[1].dist\n",
    "        weights = cumsum([s - p.dist for p in particles])\n",
    "        sel = Uniform(0, weights[end])\n",
    "\n",
    "        empty!(new_particles)\n",
    "        \n",
    "        for i in 1:pop_size\n",
    "            anc = particles[searchsortedfirst(weights, rand(sel))]\n",
    "            params = anc.params .+ rand.(noise)\n",
    "            params = limit(params, priors)\n",
    "            push!(new_particles, Particle(params, Inf))\n",
    "        end\n",
    "    end\n",
    "            \n",
    "            \n",
    "end"
   ]
  },
  {
   "cell_type": "code",
   "execution_count": null,
   "metadata": {},
   "outputs": [],
   "source": [
    "priors = [Uniform(0, 1), Uniform(0, 1), Uniform(0, 1), Uniform(0, 20), Uniform(0, 1), \n",
    "    Uniform(0.2, 1.5), Uniform(0.2, 1.5), Uniform(0.2, 1.5)]\n",
    "noise = [0.05, 0.05, 0.05, 0.05, 0.05, 0.05, 0.05, 0.05]"
   ]
  },
  {
   "cell_type": "code",
   "execution_count": null,
   "metadata": {},
   "outputs": [],
   "source": [
    "#p = rand.(priors)\n",
    "#simulate(p)"
   ]
  },
  {
   "cell_type": "code",
   "execution_count": null,
   "metadata": {
    "scrolled": true
   },
   "outputs": [],
   "source": [
    "abc(priors, dist, 200, 0.5, noise, 10, verbose=true, scale_noise=true, parallel=true)"
   ]
  },
  {
   "cell_type": "code",
   "execution_count": null,
   "metadata": {},
   "outputs": [],
   "source": [
    "abc_result = ans"
   ]
  },
  {
   "cell_type": "code",
   "execution_count": null,
   "metadata": {},
   "outputs": [],
   "source": [
    "sorted = sort(abc_result, by=p->p.dist);"
   ]
  },
  {
   "cell_type": "code",
   "execution_count": null,
   "metadata": {},
   "outputs": [],
   "source": [
    "real_p = abc_result[1:end-200]\n",
    "real_p2 = abc_result[end-199:end]"
   ]
  },
  {
   "cell_type": "code",
   "execution_count": null,
   "metadata": {},
   "outputs": [],
   "source": [
    "using Plots"
   ]
  },
  {
   "cell_type": "code",
   "execution_count": null,
   "metadata": {},
   "outputs": [],
   "source": [
    "histogram(map(x->x.params[1], real_p), bins=20)"
   ]
  },
  {
   "cell_type": "code",
   "execution_count": null,
   "metadata": {},
   "outputs": [],
   "source": [
    "histogram(map(x->x.params[2], real_p), bins=20)"
   ]
  },
  {
   "cell_type": "code",
   "execution_count": null,
   "metadata": {},
   "outputs": [],
   "source": [
    "histogram(map(x->x.params[3], real_p), bins=20)"
   ]
  },
  {
   "cell_type": "code",
   "execution_count": null,
   "metadata": {},
   "outputs": [],
   "source": [
    "plotly()\n",
    "scatter(map(x->1.0-x.params[1], real_p), map(x->x.params[2], real_p), map(x->x.params[3], real_p), \n",
    "    xlabel=\"p_keep\", ylabel=\"p_info\", zlabel=\"p_transfer\")"
   ]
  },
  {
   "cell_type": "code",
   "execution_count": null,
   "metadata": {},
   "outputs": [],
   "source": [
    "histogram(map(x->x.params[4], real_p), bins=20)"
   ]
  },
  {
   "cell_type": "code",
   "execution_count": null,
   "metadata": {},
   "outputs": [],
   "source": [
    "histogram(map(x->x.dist, abc_result[200:end]))"
   ]
  },
  {
   "cell_type": "code",
   "execution_count": null,
   "metadata": {},
   "outputs": [],
   "source": []
  }
 ],
 "metadata": {
  "@webio": {
   "lastCommId": null,
   "lastKernelId": null
  },
  "kernelspec": {
   "display_name": "Julia 1k threads 1.6.1",
   "language": "julia",
   "name": "julia-1k-threads-1.6"
  },
  "language_info": {
   "file_extension": ".jl",
   "mimetype": "application/julia",
   "name": "julia",
   "version": "1.6.1"
  }
 },
 "nbformat": 4,
 "nbformat_minor": 4
}
