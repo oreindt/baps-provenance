{
 "cells": [
  {
   "cell_type": "code",
   "execution_count": 18,
   "metadata": {},
   "outputs": [
    {
     "data": {
      "text/plain": [
       "abc (generic function with 1 method)"
      ]
     },
     "execution_count": 18,
     "metadata": {},
     "output_type": "execute_result"
    }
   ],
   "source": [
    "using Distributions\n",
    "using Statistics\n",
    "\n",
    "mutable struct Particle\n",
    "    params :: Vector{Float64}\n",
    "    dist :: Float64\n",
    "end\n",
    "\n",
    "\n",
    "function limit(params, priors)\n",
    "    [max(minimum(d), min(maximum(d), p)) for (p, d) in zip(params, priors)]\n",
    "end\n",
    "        \n",
    "\n",
    "function abc(priors, dist_func, pop_size, p_rem, sigma, n_iters; verbose = false, parallel = false, scale_noise = false)\n",
    "    particles = Particle[]\n",
    "    new_particles = [Particle(map(rand, priors), Inf) for i in 1:pop_size]\n",
    "        \n",
    "    iter = 0\n",
    "    \n",
    "    while true\n",
    "        iter += 1\n",
    "        verbose && println(\"$iter: simulating $(length(new_particles)) new particles...\")\n",
    "        \n",
    "        if parallel\n",
    "            Threads.@threads for p in new_particles\n",
    "                p.dist = dist_func(p.params)\n",
    "            end        \n",
    "        else\n",
    "            for p in new_particles\n",
    "                p.dist = dist_func(p.params)\n",
    "            end        \n",
    "        end\n",
    "            \n",
    "        # add new particles to old ones\n",
    "        particles = [particles ; new_particles]\n",
    "        \n",
    "        if iter >= n_iters\n",
    "            return particles\n",
    "        end\n",
    "\n",
    "        rem = floor(Int, p_rem * length(particles))\n",
    "    \n",
    "        verbose && println(\"removing $rem of $(length(particles))\")\n",
    "        # remove worst particles\n",
    "        sort!(particles, by=p->p.dist)\n",
    "        particles = particles[1:(end-rem)]\n",
    "        \n",
    "        verbose && println(\"distance: \", particles[1].dist, \" \", particles[end].dist)\n",
    "        \n",
    "        \n",
    "        if scale_noise\n",
    "            std_dev = [std([p.params[i] for p in particles]) for i in eachindex(priors)]\n",
    "            n_sigma = sigma .* std_dev\n",
    "        else\n",
    "            n_sigma = sigma\n",
    "        end\n",
    "        \n",
    "        noise = Normal.(0, n_sigma)\n",
    "        \n",
    "        s = particles[end].dist + particles[1].dist\n",
    "        weights = cumsum([s - p.dist for p in particles])\n",
    "        sel = Uniform(0, weights[end])\n",
    "\n",
    "        empty!(new_particles)\n",
    "        \n",
    "        for i in 1:pop_size\n",
    "            anc = particles[searchsortedfirst(weights, rand(sel))]\n",
    "            params = anc.params .+ rand.(noise)\n",
    "            params = limit(params, priors)\n",
    "            push!(new_particles, Particle(params, Inf))\n",
    "        end\n",
    "    end\n",
    "            \n",
    "            \n",
    "end"
   ]
  },
  {
   "cell_type": "code",
   "execution_count": 2,
   "metadata": {},
   "outputs": [],
   "source": [
    "prior = [Normal(0.5), Normal(0.5)]\n",
    "\n",
    "function cost1(p)\n",
    "    x,y = p\n",
    "    50 * (x + randn() * 0.01 - y^2)^2 + (y - 1 + randn()*0.01)^2\n",
    "end\n",
    "\n",
    "#@time res = abc(prior, cost1, 100, 0.5, 0.05, 7, verbose=false);\n",
    "# mean([p.params[1] for p in res[1:100]])"
   ]
  },
  {
   "cell_type": "code",
   "execution_count": 19,
   "metadata": {},
   "outputs": [
    {
     "name": "stdout",
     "output_type": "stream",
     "text": [
      "\t0.4598261711667547\t0.4265687594284958\t0.43391580692400017\n",
      "\t0.16759781515053368\t0.17381587448392077\t0.2496085290203974\n",
      "\t0.056995302149243976\t0.09400811904204884\t0.15991029219631078\n",
      "\t0.028239501029437505\t0.05733614790459573\t0.11502088316526721\n",
      "\t0.02675645174334148\t0.03813044741878595\t0.09096945596469369\n",
      "\t0.010822490737860964\t0.026639285157002604\t0.06419023266968808\n"
     ]
    }
   ],
   "source": [
    "for p in [0.1, 0.2, 0.3, 0.4, 0.5, 0.6]\n",
    "    for n in [0.01, 0.05, 0.1]\n",
    "        d = 0.0\n",
    "        for i in 1:100\n",
    "            res = abc(prior, cost1, 200, p, [n, n], 10, verbose=false)\n",
    "            d += res[100].dist\n",
    "        end\n",
    "        print(\"\\t$(d/100)\")\n",
    "    end\n",
    "    println()\n",
    "end     "
   ]
  },
  {
   "cell_type": "code",
   "execution_count": 16,
   "metadata": {},
   "outputs": [
    {
     "name": "stdout",
     "output_type": "stream",
     "text": [
      "\t0.4064794205453891\t0.4052369774250329\t0.42051580753168266\n",
      "\t0.19359271304960984\t0.1565097545763017\t0.16476830767958725\n",
      "\t0.07696924998127548\t0.05676474486905425\t0.08214105866205816\n",
      "\t0.03919851799640959\t0.01781104766044468\t0.03572449862876857\n",
      "\t0.04167741893109759\t0.008369152749395557\t0.014473769113515143\n",
      "\t0.03375561934320172\t0.004576521327811295\t0.005646908436767691\n"
     ]
    }
   ],
   "source": [
    "for p in [0.1, 0.2, 0.3, 0.4, 0.5, 0.6]\n",
    "    for n in [0.01, 0.05, 0.1]\n",
    "        d = 0.0\n",
    "        for i in 1:100\n",
    "            res = abc(prior, cost1, 200, p, [n, n], 10, verbose=false, scale_noise=true)\n",
    "            d += res[100].dist\n",
    "        end\n",
    "        print(\"\\t$(d/100)\")\n",
    "    end\n",
    "    println()\n",
    "end     "
   ]
  },
  {
   "cell_type": "code",
   "execution_count": 20,
   "metadata": {},
   "outputs": [
    {
     "name": "stdout",
     "output_type": "stream",
     "text": [
      "(iteration, ϵ, dest, target) = (1, 33550.21019632241, 65.99999999999999, 60.00000000000001)\n",
      "(iteration, ϵ, dest, target) = (2, 4462.37039793619, 42.0, 39.59999999999999)\n",
      "(iteration, ϵ, dest, target) = (3, 1150.8145771291436, 59.99999999999998, 60.0)\n",
      "(iteration, ϵ, dest, target) = (4, 297.7097081354878, 60.00000000000001, 60.0)\n",
      "(iteration, ϵ, dest, target) = (5, 90.78720368864866, 60.000000000000014, 60.0)\n",
      "(iteration, ϵ, dest, target) = (6, 40.7335607712651, 37.00000000000001, 36.00000000000001)\n",
      "(iteration, ϵ, dest, target) = (7, 20.317504079402042, 59.000000000000014, 60.0)\n",
      "(iteration, ϵ, dest, target) = (8, 8.804982344442564, 59.000000000000014, 60.0)\n",
      "(iteration, ϵ, dest, target) = (9, 4.671366075094421, 61.000000000000036, 60.0)\n",
      "(iteration, ϵ, dest, target) = (10, 1.929769239734854, 37.000000000000014, 36.60000000000002)\n",
      "(iteration, ϵ, dest, target) = (11, 0.9804807217732695, 57.0, 60.0)\n",
      "(iteration, ϵ, dest, target) = (12, 0.7082080650304935, 61.000000000000014, 60.0)\n",
      "(iteration, ϵ, dest, target) = (13, 0.5251477934108806, 36.00000000000001, 36.60000000000001)\n",
      "(iteration, ϵ, dest, target) = (14, 0.34443203699240804, 59.000000000000014, 60.0)\n",
      "(iteration, ϵ, dest, target) = (15, 0.21917998751875087, 60.000000000000014, 60.0)\n",
      "(iteration, ϵ, dest, target) = (16, 0.17042608774660584, 38.0, 36.00000000000001)\n",
      "(iteration, ϵ, dest, target) = (17, 0.13033913820563262, 60.00000000000001, 60.0)\n",
      "(iteration, ϵ, dest, target) = (18, 0.09996074675661386, 61.00000000000002, 60.0)\n",
      "(iteration, ϵ, dest, target) = (19, 0.08585102512341286, 38.00000000000002, 36.60000000000001)\n",
      "(iteration, ϵ, dest, target) = (20, 0.07313988183065377, 60.00000000000002, 60.0)\n",
      "(iteration, ϵ, dest, target) = (21, 0.05700351637233607, 34.999999999999986, 36.000000000000014)\n",
      "(iteration, ϵ, dest, target) = (22, 0.03549172525935792, 59.000000000000014, 60.0)\n",
      "(iteration, ϵ, dest, target) = (23, 0.02275682723600207, 61.00000000000002, 60.0)\n",
      "(iteration, ϵ, dest, target) = (24, 0.013150963863103469, 36.00000000000001, 36.60000000000001)\n",
      "(iteration, ϵ, dest, target) = (25, 0.009465532475291093, 57.0, 60.0)\n",
      "(iteration, ϵ, dest, target) = (26, 0.006193872256715647, 57.0, 60.0)\n",
      "(iteration, ϵ, dest, target) = (27, 0.0041374330953571625, 61.000000000000014, 60.0)\n",
      "(iteration, ϵ, dest, target) = (28, 0.0024479263255453697, 38.0, 36.60000000000001)\n",
      "(iteration, ϵ, dest, target) = (29, 0.0014206245234413542, 59.000000000000014, 60.0)\n",
      "(iteration, ϵ, dest, target) = (30, 0.0009013380057567792, 67.00000000000003, 60.0)\n",
      "(iteration, ϵ, dest, target) = (31, 0.0004608594319960767, 40.0, 40.20000000000002)\n",
      "(iteration, ϵ, dest, target) = (32, 0.0001590682464767462, 54.00000000000001, 60.0)\n",
      "(iteration, ϵ, dest, target) = (33, 0.0001030094242401132, 62.00000000000003, 60.0)\n",
      "  4.326378 seconds (12.14 M allocations: 697.387 MiB, 7.98% gc time, 99.16% compilation time)\n"
     ]
    }
   ],
   "source": [
    "using KissABC\n",
    "\n",
    "prior = Factored(Normal(0,5), Normal(0,5))\n",
    "\n",
    "n = 1\n",
    "\n",
    "function cost2((x,y))\n",
    "    global n\n",
    "    n += 1\n",
    "    50 * (x + randn() * 0.01 - y^2)^2 + (y - 1 + randn()*0.01)^2\n",
    "end\n",
    "\n",
    "@time results = smc(prior, cost2, alpha=0.6, verbose = true);"
   ]
  },
  {
   "cell_type": "code",
   "execution_count": 21,
   "metadata": {},
   "outputs": [
    {
     "data": {
      "text/plain": [
       "2981"
      ]
     },
     "execution_count": 21,
     "metadata": {},
     "output_type": "execute_result"
    }
   ],
   "source": [
    "n"
   ]
  },
  {
   "cell_type": "code",
   "execution_count": null,
   "metadata": {},
   "outputs": [],
   "source": []
  }
 ],
 "metadata": {
  "@webio": {
   "lastCommId": null,
   "lastKernelId": null
  },
  "kernelspec": {
   "display_name": "Julia 1k threads 1.6.1",
   "language": "julia",
   "name": "julia-1k-threads-1.6"
  },
  "language_info": {
   "file_extension": ".jl",
   "mimetype": "application/julia",
   "name": "julia",
   "version": "1.6.1"
  }
 },
 "nbformat": 4,
 "nbformat_minor": 4
}
