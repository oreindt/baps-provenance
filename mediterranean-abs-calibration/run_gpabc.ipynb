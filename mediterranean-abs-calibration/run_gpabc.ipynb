{
 "cells": [
  {
   "cell_type": "code",
   "execution_count": 1,
   "metadata": {},
   "outputs": [
    {
     "name": "stderr",
     "output_type": "stream",
     "text": [
      "┌ Info: Precompiling GpABC [e850a1a4-d859-11e8-3d54-a195e6d045d3]\n",
      "└ @ Base loading.jl:1317\n"
     ]
    }
   ],
   "source": [
    "using GpABC"
   ]
  },
  {
   "cell_type": "code",
   "execution_count": 2,
   "metadata": {},
   "outputs": [
    {
     "data": {
      "text/plain": [
       "run_batch (generic function with 1 method)"
      ]
     },
     "execution_count": 2,
     "metadata": {},
     "output_type": "execute_result"
    }
   ],
   "source": [
    "include(\"run_remotely.jl\")"
   ]
  },
  {
   "cell_type": "code",
   "execution_count": 3,
   "metadata": {},
   "outputs": [
    {
     "data": {
      "text/plain": [
       "costs (generic function with 1 method)"
      ]
     },
     "execution_count": 3,
     "metadata": {},
     "output_type": "execute_result"
    }
   ],
   "source": [
    "function simulate(params)\n",
    "    pdict = Dict(\n",
    "        \"p-drop-contact\" => params[1], \n",
    "#        \"speed-expl-stay\" => params[2], \n",
    "#        \"speed-expl-move\" => params[3], \n",
    "        \"p-info-contacts\" => params[2], \n",
    "        \"p-transfer-info\" => params[3])\n",
    "#        \"error\" => params[6], \n",
    "#        \"error-risk\" => params[7], \n",
    "#        \"error-frict\" => params[8], \n",
    "#        \"risk-scale\" => params[9], \n",
    "#        \"p-notice-death-c\" => params[10], \n",
    "#        \"p-notice-death-o\" => params[11], \n",
    "#        \"speed-risk-indir\" => params[12], \n",
    "#        \"speed-risk-obs\" => params[13], \n",
    "#        \"speed-expl-risk\" => params[14], \n",
    "#        \"path-penalty-risk\" => params[15])\n",
    "    args = \" -m ../map_med1.json -s ../mediterranean '--wait 10 --warmup 100 --int 0.01 0.077 0.153 0.428 0.389 --risks 0.01 0.023 0.020 0.029 0.048'  -t 500\"\n",
    "    for (k, v) in pdict\n",
    "        args *= \" --$k $v\" \n",
    "    end\n",
    "    \n",
    "    args *= \" --rand-seed-sim $(rand(1:100000)) --rand-seed-world $(rand(1:100000))\"\n",
    "    \n",
    "    xdirs = [readdir(\"incoming\"); readdir(\"running\"); readdir(\"done\")]\n",
    "    filter!(x -> startswith(x, \"x\"), xdirs)\n",
    "    mx = 1\n",
    "    for dir in xdirs\n",
    "        m = match(r\"x([0-9]+)_\", dir)\n",
    "        if m == nothing \n",
    "            continue\n",
    "        end\n",
    "        n = parse(Int, m.captures[1])\n",
    "        if mx <= n\n",
    "            mx = n+1\n",
    "        end\n",
    "    end\n",
    "    \n",
    "    prefix = \"x$(mx)_$(Threads.threadid())_\"\n",
    "    server = \"sotonhpc\"\n",
    "    dir = \"Science/southampon/runs/mediterranean\"\n",
    "    \n",
    "    results = run_batch(server, dir, prefix, [args])[1]\n",
    "\n",
    "    result\n",
    "end\n",
    "\n",
    "function costs(result)\n",
    "    arrivals = [0.657941144053786, 0.207848228494849, 0.599476123312513]\n",
    "    mort = [0.022736973763885, 0.019768432868398, 0.028785488958991, 0.047819332348149]\n",
    "    interc = [1.43020016842651, 0.884092762025546, 0.525283057533685]\n",
    "\n",
    "    d1 = sqrt(sum((arrivals .- results[1]) .^ 2))\n",
    "    d2 = sqrt(sum((mort .- results[2]) .^ 2))\n",
    "    d3 = sqrt(sum((interc .- results[3]) .^ 2))\n",
    "    \n",
    "    d1 + d2 * 10 + d3\n",
    "end\n",
    "    "
   ]
  },
  {
   "cell_type": "code",
   "execution_count": 5,
   "metadata": {},
   "outputs": [],
   "source": [
    "using Distributions"
   ]
  },
  {
   "cell_type": "code",
   "execution_count": 6,
   "metadata": {},
   "outputs": [
    {
     "data": {
      "text/plain": [
       "3-element Vector{Uniform{Float64}}:\n",
       " Uniform{Float64}(a=0.0, b=1.0)\n",
       " Uniform{Float64}(a=0.0, b=1.0)\n",
       " Uniform{Float64}(a=0.0, b=1.0)"
      ]
     },
     "execution_count": 6,
     "metadata": {},
     "output_type": "execute_result"
    }
   ],
   "source": [
    "priors = [Uniform(0, 1), Uniform(0, 1), Uniform(0, 1)]"
   ]
  },
  {
   "cell_type": "code",
   "execution_count": null,
   "metadata": {},
   "outputs": [],
   "source": []
  }
 ],
 "metadata": {
  "@webio": {
   "lastCommId": null,
   "lastKernelId": null
  },
  "kernelspec": {
   "display_name": "Julia 1k threads 1.6.1",
   "language": "julia",
   "name": "julia-1k-threads-1.6"
  },
  "language_info": {
   "file_extension": ".jl",
   "mimetype": "application/julia",
   "name": "julia",
   "version": "1.6.1"
  }
 },
 "nbformat": 4,
 "nbformat_minor": 4
}
